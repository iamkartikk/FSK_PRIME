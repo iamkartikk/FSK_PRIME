{
  "nbformat": 4,
  "nbformat_minor": 0,
  "metadata": {
    "colab": {
      "provenance": []
    },
    "kernelspec": {
      "name": "python3",
      "display_name": "Python 3"
    },
    "language_info": {
      "name": "python"
    }
  },
  "cells": [
    {
      "cell_type": "markdown",
      "source": [
        "# Task 1: Python Proficiency Check – AI Bootcamp Prep"
      ],
      "metadata": {
        "id": "L982FdumDCVn"
      }
    },
    {
      "cell_type": "markdown",
      "source": [
        "## Section 1: Basics & Control Flow"
      ],
      "metadata": {
        "id": "gk9AwRFXDO6n"
      }
    },
    {
      "cell_type": "markdown",
      "source": [
        "### **Task 1**: FizzBuzz with a Twist\n",
        "\n",
        "*Instruction*: Write a function that prints numbers from 1 to 50. For multiples of 3, print \"AI\", for multiples of 5 print \"Bootcamp\", and for multiples of both 3 and 5 print \"AI Bootcamp\"."
      ],
      "metadata": {
        "id": "tG2LLFb4DSrf"
      }
    },
    {
      "cell_type": "code",
      "source": [
        "def fizzbuzz_ai_bootcamp():\n",
        "   for i in range(1,51,1):\n",
        "    if i%3==0:\n",
        "      print(f\"{i}=AI\")\n",
        "    elif i%5==0:\n",
        "      print(f\"{i}=Bootcamp\")\n",
        "    else:\n",
        "      print(i)\n",
        "\n",
        "fizzbuzz_ai_bootcamp()"
      ],
      "metadata": {
        "id": "G6YtbgenDSWH",
        "colab": {
          "base_uri": "https://localhost:8080/"
        },
        "outputId": "60b8a117-7777-4cc2-e055-857f540968a5"
      },
      "execution_count": null,
      "outputs": [
        {
          "output_type": "stream",
          "name": "stdout",
          "text": [
            "1\n",
            "2\n",
            "3=AI\n",
            "4\n",
            "5=Bootcamp\n",
            "6=AI\n",
            "7\n",
            "8\n",
            "9=AI\n",
            "10=Bootcamp\n",
            "11\n",
            "12=AI\n",
            "13\n",
            "14\n",
            "15=AI\n",
            "16\n",
            "17\n",
            "18=AI\n",
            "19\n",
            "20=Bootcamp\n",
            "21=AI\n",
            "22\n",
            "23\n",
            "24=AI\n",
            "25=Bootcamp\n",
            "26\n",
            "27=AI\n",
            "28\n",
            "29\n",
            "30=AI\n",
            "31\n",
            "32\n",
            "33=AI\n",
            "34\n",
            "35=Bootcamp\n",
            "36=AI\n",
            "37\n",
            "38\n",
            "39=AI\n",
            "40=Bootcamp\n",
            "41\n",
            "42=AI\n",
            "43\n",
            "44\n",
            "45=AI\n",
            "46\n",
            "47\n",
            "48=AI\n",
            "49\n",
            "50=Bootcamp\n"
          ]
        }
      ]
    },
    {
      "cell_type": "markdown",
      "source": [
        "### **Task 2**: List Comprehensions and Functions\n",
        "\n",
        "*Instruction*: Given a list of numbers, square only the even numbers using a list comprehension and define a function that returns the result."
      ],
      "metadata": {
        "id": "8YMADBQmDhHU"
      }
    },
    {
      "cell_type": "code",
      "execution_count": null,
      "metadata": {
        "colab": {
          "base_uri": "https://localhost:8080/"
        },
        "id": "sPfpD1yF4LTO",
        "outputId": "9de1409c-c149-4fef-8695-10030743b944"
      },
      "outputs": [
        {
          "output_type": "stream",
          "name": "stdout",
          "text": [
            "[4, 16, 36]\n"
          ]
        }
      ],
      "source": [
        "def square_evens(numbers):\n",
        "    return [x**2 for x in numbers if x % 2 == 0 ]\n",
        "\n",
        "print(square_evens([1, 2, 3, 4, 5, 6]))"
      ]
    },
    {
      "cell_type": "markdown",
      "source": [
        "## Section 2: Data Structures & File I/O"
      ],
      "metadata": {
        "id": "03CKwCBtDzRL"
      }
    },
    {
      "cell_type": "markdown",
      "source": [
        "### **Task 3**: Word Frequency from a File\n",
        "\n",
        "*Instruction*: Read the provided text file (Sample_For_Task1.txt) and return the 5 most common words (ignoring punctuation and case)."
      ],
      "metadata": {
        "id": "oh1W_9m5DuzF"
      }
    },
    {
      "cell_type": "code",
      "source": [
        "from collections import Counter\n",
        "import string\n",
        "def top_5_words(filepath):\n",
        "  with open(filepath, 'r') as file:\n",
        "        text = file.read()\n",
        "        text= text.lower()\n",
        "  text = text.translate(str.maketrans('', '', string.punctuation))\n",
        "  words = text.split()\n",
        "  word_counts = Counter(words)\n",
        "  most_common = word_counts.most_common(5)\n",
        "  for word, count in most_common:\n",
        "    print(f\"{word}: {count}\")\n",
        "\n",
        "\n",
        "top_5_words('/content/sample_data/README.md')\n"
      ],
      "metadata": {
        "id": "SQTsWR6GDn6e",
        "colab": {
          "base_uri": "https://localhost:8080/"
        },
        "outputId": "471a02e8-85ae-4ad1-f5ca-8eb25971e35b"
      },
      "execution_count": null,
      "outputs": [
        {
          "output_type": "stream",
          "name": "stdout",
          "text": [
            "is: 4\n",
            "a: 3\n",
            "the: 3\n",
            "sample: 2\n",
            "at: 2\n"
          ]
        }
      ]
    },
    {
      "cell_type": "markdown",
      "source": [
        "## Section 3: NumPy & pandas"
      ],
      "metadata": {
        "id": "mVV1BgZvEE3a"
      }
    },
    {
      "cell_type": "markdown",
      "source": [
        "### **Task 4**: NumPy Matrix Magic\n",
        "\n",
        "*Instruction*: Create a 5x5 matrix with random integers from 1 to 10. Replace all elements greater than 5 with 0."
      ],
      "metadata": {
        "id": "opUK7Z7LEIr4"
      }
    },
    {
      "cell_type": "code",
      "source": [
        "import numpy as np\n",
        "\n",
        "def matrix_transform():\n",
        "    matrix = np.random.randint(1, 11, size=(5, 5))  # Random integers from 1 to 10\n",
        "    print(\"Original Matrix:\\n\", matrix)\n",
        "\n",
        "    matrix[matrix > 5] = 0  # Replace elements greater than 5 with 0\n",
        "    print(\"Transformed Matrix:\\n\", matrix)\n",
        "\n",
        "matrix_transform()"
      ],
      "metadata": {
        "id": "UW3FMdjQEEl3",
        "colab": {
          "base_uri": "https://localhost:8080/"
        },
        "outputId": "7faa22f8-f63f-4cf4-c242-7244e6c70570"
      },
      "execution_count": null,
      "outputs": [
        {
          "output_type": "stream",
          "name": "stdout",
          "text": [
            "Original Matrix:\n",
            " [[ 4  7  5 10  4]\n",
            " [ 1  9  9  7  9]\n",
            " [ 7 10  1  8  4]\n",
            " [ 3  4  3  7  8]\n",
            " [ 1  7  9  8  8]]\n",
            "Transformed Matrix:\n",
            " [[4 0 5 0 4]\n",
            " [1 0 0 0 0]\n",
            " [0 0 1 0 4]\n",
            " [3 4 3 0 0]\n",
            " [1 0 0 0 0]]\n"
          ]
        }
      ]
    },
    {
      "cell_type": "markdown",
      "source": [
        "### **Task 5**: pandas DataFrame Manipulation\n",
        "\n",
        "*Instruction*: Given the following dictionary, convert it into a DataFrame, calculate the average score per student, and add it as a new column."
      ],
      "metadata": {
        "id": "YuFv3sE6ET9d"
      }
    },
    {
      "cell_type": "code",
      "source": [
        "import pandas as pd\n",
        "\n",
        "data = {\n",
        "    'Name': ['Alice', 'Bob', 'Charlie'],\n",
        "    'Math': [85, 78, 92],\n",
        "    'Science': [90, 88, 84],\n",
        "    'English': [87, 85, 80]\n",
        "}\n",
        "\n",
        "# Convert dictionary to DataFrame\n",
        "df = pd.DataFrame(data)\n",
        "\n",
        "# Calculate the average score for each student\n",
        "df['Average'] = df[['Math', 'Science', 'English']].mean(axis=1)\n",
        "\n",
        "# Display the DataFrame\n",
        "print(df)\n",
        "\n",
        "# Your code here"
      ],
      "metadata": {
        "id": "horbXH8iETuH",
        "colab": {
          "base_uri": "https://localhost:8080/"
        },
        "outputId": "e48d18a7-f246-415d-9d83-991bb0a2b521"
      },
      "execution_count": null,
      "outputs": [
        {
          "output_type": "stream",
          "name": "stdout",
          "text": [
            "      Name  Math  Science  English    Average\n",
            "0    Alice    85       90       87  87.333333\n",
            "1      Bob    78       88       85  83.666667\n",
            "2  Charlie    92       84       80  85.333333\n"
          ]
        }
      ]
    },
    {
      "cell_type": "markdown",
      "source": [
        "## Section 4: Visualization & Logic"
      ],
      "metadata": {
        "id": "GNO0DPi3EpgF"
      }
    },
    {
      "cell_type": "markdown",
      "source": [
        "### **Task 6**: Simple Data Visualization\n",
        "\n",
        "*Instruction*: Use matplotlib to create a bar chart showing the average score per subject from the DataFrame in the previous task."
      ],
      "metadata": {
        "id": "W74DNGaJEtdj"
      }
    },
    {
      "cell_type": "code",
      "source": [
        "import matplotlib.pyplot as plt\n",
        "\n",
        "# Your code here\n",
        "import matplotlib.pyplot as plt\n",
        "\n",
        "# Assuming `df` is already defined\n",
        "# Drop the 'Name' column and calculate the mean of each subject\n",
        "subject_averages = df.drop('Name', axis=1).mean()\n",
        "\n",
        "# Create a bar chart\n",
        "plt.figure(figsize=(8, 5))\n",
        "plt.bar(subject_averages.index, subject_averages.values, color='skyblue')\n",
        "plt.title('Average Score per Subject')\n",
        "plt.xlabel('Subjects')\n",
        "plt.ylabel('Average Score')\n",
        "plt.ylim(0, 100)\n",
        "plt.grid(axis='y', linestyle='--', alpha=0.7)\n",
        "plt.show()\n"
      ],
      "metadata": {
        "id": "aM8iWEAXEOmE",
        "colab": {
          "base_uri": "https://localhost:8080/",
          "height": 487
        },
        "outputId": "8996a2f0-de17-4b81-e2e0-6158549ee144"
      },
      "execution_count": null,
      "outputs": [
        {
          "output_type": "display_data",
          "data": {
            "text/plain": [
              "<Figure size 800x500 with 1 Axes>"
            ],
            "image/png": "[encoded data removed]"
          },
          "metadata": {}
        }
      ]
    },
    {
      "cell_type": "markdown",
      "source": [
        "## Section 5: Mini-Project Challenge"
      ],
      "metadata": {
        "id": "yFxPFagsE9mS"
      }
    },
    {
      "cell_type": "markdown",
      "source": [
        "### **Task 7**: Build a Mini Calculator with Exception Handling\n",
        "\n",
        "*Instruction*: Write a function that takes two numbers and an operator as input (+, -, *, /). Return the result, and handle divide-by-zero and invalid operator cases with appropriate error messages."
      ],
      "metadata": {
        "id": "IZwIOzHXFD1a"
      }
    },
    {
      "cell_type": "code",
      "source": [
        "def calculator(a, b, operator):\n",
        "    try:\n",
        "        if operator == '+':\n",
        "            return a + b\n",
        "        elif operator == '-':\n",
        "            return a - b\n",
        "        elif operator == '*':\n",
        "            return a * b\n",
        "        elif operator == '/':\n",
        "            if b == 0:\n",
        "                raise ZeroDivisionError(\"Cannot divide by zero.\")\n",
        "            return a / b\n",
        "        else:\n",
        "            raise ValueError(f\"Invalid operator: {operator}\")\n",
        "    except ZeroDivisionError as zde:\n",
        "        print(f\"Error: {zde}\")\n",
        "    except ValueError as ve:\n",
        "        print(f\"Error: {ve}\")\n",
        "\n",
        "# Example usage\n",
        "calculator(10, 0, '/')\n",
        "calculator(10, 5, '*')\n",
        "calculator(5, 2, '%')  # invalid operator\n"
      ],
      "metadata": {
        "id": "VpUFTR1JFDWk",
        "colab": {
          "base_uri": "https://localhost:8080/"
        },
        "outputId": "b231e5fb-e0ff-4b7f-b05f-3084f32ce310"
      },
      "execution_count": null,
      "outputs": [
        {
          "output_type": "stream",
          "name": "stdout",
          "text": [
            "Error: Cannot divide by zero.\n",
            "Error: Invalid operator: %\n"
          ]
        }
      ]
    }
  ]
}